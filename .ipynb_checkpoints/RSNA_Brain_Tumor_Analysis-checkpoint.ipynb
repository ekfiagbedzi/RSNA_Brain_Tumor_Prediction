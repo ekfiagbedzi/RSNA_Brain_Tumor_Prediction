{
 "cells": [
  {
   "cell_type": "code",
   "execution_count": 1,
   "metadata": {},
   "outputs": [],
   "source": [
    "# Import relevant models\n",
    "import os\n",
    "import sys\n",
    "import json\n",
    "import glob\n",
    "import random\n",
    "import collections\n",
    "import time\n",
    "import re\n",
    "import math\n",
    "import cv2\n",
    "\n",
    "\n",
    "import numpy as np\n",
    "import pandas as pd\n",
    "import matplotlib.pyplot as plt\n",
    "import seaborn as sns\n",
    "import pydicom\n",
    "from pydicom.pixel_data_handlers.util import apply_voi_lut\n",
    "\n",
    "from random import shuffle\n",
    "from sklearn import model_selection as sk_model_selection"
   ]
  },
  {
   "cell_type": "code",
   "execution_count": 6,
   "metadata": {},
   "outputs": [
    {
     "data": {
      "text/html": [
       "<div>\n",
       "<style scoped>\n",
       "    .dataframe tbody tr th:only-of-type {\n",
       "        vertical-align: middle;\n",
       "    }\n",
       "\n",
       "    .dataframe tbody tr th {\n",
       "        vertical-align: top;\n",
       "    }\n",
       "\n",
       "    .dataframe thead th {\n",
       "        text-align: right;\n",
       "    }\n",
       "</style>\n",
       "<table border=\"1\" class=\"dataframe\">\n",
       "  <thead>\n",
       "    <tr style=\"text-align: right;\">\n",
       "      <th></th>\n",
       "      <th>BraTS21ID</th>\n",
       "      <th>MGMT_value</th>\n",
       "      <th>BraTS21ID5</th>\n",
       "    </tr>\n",
       "  </thead>\n",
       "  <tbody>\n",
       "    <tr>\n",
       "      <th>0</th>\n",
       "      <td>0</td>\n",
       "      <td>1</td>\n",
       "      <td>00000</td>\n",
       "    </tr>\n",
       "    <tr>\n",
       "      <th>1</th>\n",
       "      <td>2</td>\n",
       "      <td>1</td>\n",
       "      <td>00002</td>\n",
       "    </tr>\n",
       "    <tr>\n",
       "      <th>2</th>\n",
       "      <td>3</td>\n",
       "      <td>0</td>\n",
       "      <td>00003</td>\n",
       "    </tr>\n",
       "    <tr>\n",
       "      <th>3</th>\n",
       "      <td>5</td>\n",
       "      <td>1</td>\n",
       "      <td>00005</td>\n",
       "    </tr>\n",
       "    <tr>\n",
       "      <th>4</th>\n",
       "      <td>6</td>\n",
       "      <td>1</td>\n",
       "      <td>00006</td>\n",
       "    </tr>\n",
       "  </tbody>\n",
       "</table>\n",
       "</div>"
      ],
      "text/plain": [
       "   BraTS21ID  MGMT_value BraTS21ID5\n",
       "0          0           1      00000\n",
       "1          2           1      00002\n",
       "2          3           0      00003\n",
       "3          5           1      00005\n",
       "4          6           1      00006"
      ]
     },
     "execution_count": 6,
     "metadata": {},
     "output_type": "execute_result"
    }
   ],
   "source": [
    "#### Set relevant variables\n",
    "\n",
    "# data location\n",
    "data_directory = \"/media/biopython/Seagate Expansion Drive\"\n",
    "# image types\n",
    "mri_types = [\"FLAIR\", \"T1w\", \"T1wCE\", \"T2w\"]\n",
    "\n",
    "# number of pixels for gray scale\n",
    "SIZE = 256\n",
    "\n",
    "# number of images per batch\n",
    "NUM_IMAGES = 64\n",
    "\n",
    "# train data truth values\n",
    "train_df = pd.read_csv(\"train_labels.csv\")\n",
    "\n",
    "# add leading zeros to each ID in train data for easy selection\n",
    "train_df[\"BraTS21ID5\"] = [format(x, \"05d\") for x in train_df .BraTS21ID]\n",
    "train_df.head()"
   ]
  },
  {
   "cell_type": "code",
   "execution_count": 10,
   "metadata": {},
   "outputs": [],
   "source": [
    "# function to load single images\n",
    "def load_dicom_image(path, img_size=SIZE, voi_lut=True, rotate=0):\n",
    "    \"\"\"Load and process raw dicom images\n",
    "       Args- path(str): location of image on disk\n",
    "             img_size(float): size in pixels of image\n",
    "             voi_lut(bool): default=True; if True apply voi_lut to image\n",
    "             rotate(float): default=0; if > 0, angle to rotate image\n",
    "             \n",
    "       Returns-\n",
    "             Returns cv image object\n",
    "    \"\"\"\n",
    "    # read raw dicom image\n",
    "    dicom = pydicom.read_file(path) \n",
    "    \n",
    "    # extract pixel value from dicom dataset\n",
    "    data = dicom.pixel_array\n",
    "    \n",
    "    # apply voi_lut transformation if voi_lut set to True\n",
    "    if voi_lut:\n",
    "        data = apply_voi_lut(dicom.pixel_array, dicom)\n",
    "    else:\n",
    "        data=dicom.pixel_array\n",
    "        \n",
    "    # rotate images by set degrees if rotate>0\n",
    "    if rotate > 0:\n",
    "        rot_choices = [0, cv2.ROTATE_90_CLOCKWISE,\n",
    "                       cv2.ROTATE_90_COUNTERCLOCKWISE, cv2.ROTATE_180]\n",
    "        data = cv2.rotate(data, rot_choices[rotate])\n",
    "        \n",
    "    # resize the images\n",
    "    data = cv2.resize(data, (img_size, img_size))\n",
    "    \n",
    "    return data"
   ]
  },
  {
   "cell_type": "code",
   "execution_count": 14,
   "metadata": {},
   "outputs": [],
   "source": [
    "# function to load batch of images\n",
    "def load_dicom_images_3d(scan_id,\n",
    "                         num_imgs=NUM_IMAGES,\n",
    "                         img_size=SIZE,\n",
    "                         mri_type=\"FLAIR\",\n",
    "                         split=\"train\",\n",
    "                         rotate=0):\n",
    "    \n",
    "    \"\"\"Create a batch of images\n",
    "       Args- scan_id(str): id of the training set\n",
    "             num_imgs(int): number of images per batch\n",
    "             img_size(float): size in pixels of image\n",
    "             mri_typ(str): type of scan, default=FLAIR\n",
    "             split(str): training or testing images, default=\"train\"\n",
    "             rotate(float): default=0; if > 0, angle to rotate image\n",
    "             \n",
    "       Returns-\n",
    "             Returns 4D array of image pixels\n",
    "    \"\"\"\n",
    "    # format and combine file paths\n",
    "    files = sorted(glob.glob(f\"{data_directory}/{split}/{scan_id}/{mri_type}/*.dcm\"),\n",
    "                   key=lambda var:[int(x) if x.isdigit() else x for x in re.findall(r'[^[0-9]|[0-9]+', var)])\n",
    "    \n",
    "    # create an array of image pixels\n",
    "    middle = len(files)//2\n",
    "    num_imgs2 = num_imgs//2\n",
    "    p1 = max(0, middle - num_imgs2)\n",
    "    p2 = min(len(files), middle + num_imgs2)\n",
    "    img3d = np.stack([load_dicom_image(f, rotate=rotate) for f in files[p1:p2]]).T\n",
    "    \n",
    "    # pad batches with num_images less than required with arrays of zeros\n",
    "    if img3d.shape[-1] < num_imgs:\n",
    "        n_zero = np.zeros((img_size, img_size, num_imgs - img3d.shape[-1]))\n",
    "        img3d = np.concatenate((img3d, n_zero), axis=-1)\n",
    "    if np.min(img3d) < np.max(img3d):\n",
    "        img3d = img3d - np.min(img3d)\n",
    "        img3d = img3d / np.max(img3d)\n",
    "    \n",
    "    # add a new dimension\n",
    "    return np.expand_dims(img3d, 0)"
   ]
  },
  {
   "cell_type": "code",
   "execution_count": 16,
   "metadata": {},
   "outputs": [
    {
     "name": "stdout",
     "output_type": "stream",
     "text": [
      "(1, 256, 256, 64)\n",
      "0.0 1.0 0.07902179328632788 0.00023671822699371212\n",
      "Dimension of the CT scan is: (256, 256, 64)\n"
     ]
    },
    {
     "data": {
      "text/plain": [
       "<matplotlib.image.AxesImage at 0x7f204857e340>"
      ]
     },
     "execution_count": 16,
     "metadata": {},
     "output_type": "execute_result"
    },
    {
     "data": {
      "image/png": "[encoded data removed]",
      "text/plain": [
       "<Figure size 432x288 with 1 Axes>"
      ]
     },
     "metadata": {
      "needs_background": "light"
     },
     "output_type": "display_data"
    }
   ],
   "source": [
    "# load a batch of images\n",
    "a = load_dicom_images_3d(\"00000\")\n",
    "\n",
    "# print array shape\n",
    "print(a.shape)\n",
    "\n",
    "# print array attributes\n",
    "print(np.min(a), np.max(a), np.mean(a), np.median(a))\n",
    "\n",
    "# display a single image from batch\n",
    "image = a[0]\n",
    "print(\"Dimension of the CT scan is:\", image.shape)\n",
    "plt.imshow(np.squeeze(image[:, :, 30]), cmap=\"gray\")"
   ]
  },
  {
   "cell_type": "code",
   "execution_count": null,
   "metadata": {},
   "outputs": [],
   "source": []
  }
 ],
 "metadata": {
  "kernelspec": {
   "display_name": "HumanPA",
   "language": "python",
   "name": "humanpa"
  },
  "language_info": {
   "codemirror_mode": {
    "name": "ipython",
    "version": 3
   },
   "file_extension": ".py",
   "mimetype": "text/x-python",
   "name": "python",
   "nbconvert_exporter": "python",
   "pygments_lexer": "ipython3",
   "version": "3.8.3"
  }
 },
 "nbformat": 4,
 "nbformat_minor": 4
}
